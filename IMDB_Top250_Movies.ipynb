{
 "cells": [
  {
   "cell_type": "markdown",
   "metadata": {},
   "source": [
    "# Importing BeautifulSoup"
   ]
  },
  {
   "cell_type": "code",
   "execution_count": 1,
   "metadata": {},
   "outputs": [],
   "source": [
    "from bs4 import BeautifulSoup \n",
    "import requests\n",
    "from requests import get\n",
    "import pandas as pd\n",
    "import os, sys"
   ]
  },
  {
   "cell_type": "markdown",
   "metadata": {},
   "source": [
    "# Requesting info from IMDB "
   ]
  },
  {
   "cell_type": "code",
   "execution_count": 2,
   "metadata": {},
   "outputs": [],
   "source": [
    "#IMDB's top 250 movies\n",
    "\n",
    "url = requests.get('https://www.imdb.com/chart/top/')\n",
    "source = url.raise_for_status()\n",
    "\n",
    "soup = BeautifulSoup(url.text,'html.parser')\n",
    "    \n",
    "movies = soup.find('tbody',class_='lister-list').find_all('tr')    "
   ]
  },
  {
   "cell_type": "markdown",
   "metadata": {},
   "source": [
    "<h1> Headers for movie related info"
   ]
  },
  {
   "cell_type": "markdown",
   "metadata": {},
   "source": [
    "<h2> 1. Name of Movie"
   ]
  },
  {
   "cell_type": "code",
   "execution_count": 3,
   "metadata": {},
   "outputs": [],
   "source": [
    "NAME = []\n",
    "for movie_name in movies:        \n",
    "    name = movie_name.find('td',class_='titleColumn').a.text\n",
    "    NAME.append(name)"
   ]
  },
  {
   "cell_type": "markdown",
   "metadata": {},
   "source": [
    "An empty list for holding the names of the movies is created. A for loop that iterates over titles (names) of the movies and appends them over time into the empty list has also been developed. The parent tag is $tbody$ and the parent class is $lister-list$ and all the classes/tags that follow are the child classes/tags."
   ]
  },
  {
   "cell_type": "markdown",
   "metadata": {},
   "source": [
    "<h2> 2. Rank"
   ]
  },
  {
   "cell_type": "code",
   "execution_count": 4,
   "metadata": {},
   "outputs": [],
   "source": [
    "RANKING = []\n",
    "for movie_rank in movies:\n",
    "    rank = movie_rank.find('td',class_='titleColumn').get_text(strip=True).split('.')[0]\n",
    "    RANKING.append(rank)"
   ]
  },
  {
   "cell_type": "markdown",
   "metadata": {},
   "source": [
    "1) The Rank of the movie in the HTML code was embedded in the heading like so:\n",
    "        \n",
    "            1. \n",
    "            The Shawshank Redemption\n",
    "         (1994)\n",
    "\n",
    "2) And we are interested in extracting the digit '1' i.e., the rank. Thus, first the text is stripped and all the new lines are removed and the output is now:\n",
    "    \n",
    "        1. The Shawshank Redemption(1994)\n",
    "\n",
    "3) Finally, the split function separates all elements and the numbers before the (' . ') are indexed as 0, which is exactly what the expected output is..."
   ]
  },
  {
   "cell_type": "markdown",
   "metadata": {},
   "source": [
    "<h2> 3. Year of release"
   ]
  },
  {
   "cell_type": "code",
   "execution_count": 5,
   "metadata": {},
   "outputs": [],
   "source": [
    "YEAR_OF_RELEASE = []\n",
    "for movie_year in movies:\n",
    "    year = movie_year.find('td',class_='titleColumn').span.get_text(strip=True)[1:5]\n",
    "    YEAR_OF_RELEASE.append(year)"
   ]
  },
  {
   "cell_type": "markdown",
   "metadata": {},
   "source": [
    "An alternate way for extracting the Year is:\n",
    "\n",
    "     year = movie_year.find('td',class_='titleColumn').span.text.strip('()')"
   ]
  },
  {
   "cell_type": "markdown",
   "metadata": {},
   "source": [
    "<h2> 4. Ratings out of 10"
   ]
  },
  {
   "cell_type": "code",
   "execution_count": 6,
   "metadata": {},
   "outputs": [],
   "source": [
    "RATING = []\n",
    "for movie_rating in movies:\n",
    "    rate = movie_rating.find('td',class_='ratingColumn imdbRating').strong.text\n",
    "    RATING.append(rate)"
   ]
  },
  {
   "cell_type": "markdown",
   "metadata": {},
   "source": [
    "<h1> Creating a dataset that will be used for analysis"
   ]
  },
  {
   "cell_type": "code",
   "execution_count": 7,
   "metadata": {},
   "outputs": [],
   "source": [
    "IMDB = {\n",
    "'Rank':RANKING,\n",
    "'Movie_Name':NAME,\n",
    "'Year_Of_Release':YEAR_OF_RELEASE,\n",
    "'Rating_OutOf_10':RATING\n",
    "}"
   ]
  },
  {
   "cell_type": "code",
   "execution_count": 8,
   "metadata": {},
   "outputs": [],
   "source": [
    "IMDB_Movies = pd.DataFrame(IMDB)"
   ]
  },
  {
   "cell_type": "markdown",
   "metadata": {},
   "source": [
    "## Saving the DF as a CSV file"
   ]
  },
  {
   "cell_type": "code",
   "execution_count": 9,
   "metadata": {},
   "outputs": [],
   "source": [
    "IMDB_Movies.to_csv('IMDB_Top_250.csv')"
   ]
  },
  {
   "cell_type": "code",
   "execution_count": 30,
   "metadata": {},
   "outputs": [],
   "source": [
    "IMDB_Top_250 = pd.read_csv('IMDB_Top_250.csv')"
   ]
  },
  {
   "cell_type": "markdown",
   "metadata": {},
   "source": [
    "----"
   ]
  },
  {
   "cell_type": "markdown",
   "metadata": {},
   "source": [
    "<h1> Exploratory Data Analysis"
   ]
  },
  {
   "cell_type": "markdown",
   "metadata": {},
   "source": [
    "## Dimensions"
   ]
  },
  {
   "cell_type": "code",
   "execution_count": 31,
   "metadata": {},
   "outputs": [
    {
     "data": {
      "text/plain": [
       "(250, 5)"
      ]
     },
     "execution_count": 31,
     "metadata": {},
     "output_type": "execute_result"
    }
   ],
   "source": [
    "IMDB_Top_250.shape"
   ]
  },
  {
   "cell_type": "code",
   "execution_count": 35,
   "metadata": {},
   "outputs": [],
   "source": [
    "IMDB_Top_250.drop(['Unnamed: 0'],inplace=True,axis=1)"
   ]
  },
  {
   "cell_type": "markdown",
   "metadata": {},
   "source": [
    "<h2> Data types"
   ]
  },
  {
   "cell_type": "code",
   "execution_count": 36,
   "metadata": {},
   "outputs": [
    {
     "data": {
      "text/plain": [
       "Rank                 int64\n",
       "Movie_Name          object\n",
       "Year_Of_Release      int64\n",
       "Rating_OutOf_10    float64\n",
       "dtype: object"
      ]
     },
     "execution_count": 36,
     "metadata": {},
     "output_type": "execute_result"
    }
   ],
   "source": [
    "IMDB_Top_250.dtypes"
   ]
  },
  {
   "cell_type": "code",
   "execution_count": 37,
   "metadata": {},
   "outputs": [],
   "source": [
    "# except the movie name, we can change the rest to 'int' data type\n",
    "\n",
    "cols_to_int = ['Rank','Year_Of_Release']\n",
    "\n",
    "for cti in cols_to_int:\n",
    "    IMDB_Top_250[cti] = IMDB_Top_250[cti].astype('int64')"
   ]
  },
  {
   "cell_type": "code",
   "execution_count": 38,
   "metadata": {},
   "outputs": [],
   "source": [
    "# Rating_OutOf_10 is intrinsically of type float... so let's convert it into its rightful data type\n",
    "\n",
    "IMDB_Top_250['Rating_OutOf_10'] = IMDB_Top_250['Rating_OutOf_10'].astype('float64')"
   ]
  },
  {
   "cell_type": "code",
   "execution_count": 39,
   "metadata": {},
   "outputs": [
    {
     "name": "stdout",
     "output_type": "stream",
     "text": [
      "Rank                 int64\n",
      "Movie_Name          object\n",
      "Year_Of_Release      int64\n",
      "Rating_OutOf_10    float64\n",
      "dtype: object\n"
     ]
    }
   ],
   "source": [
    "# checking the latest changes...\n",
    "print(IMDB_Top_250.dtypes)"
   ]
  },
  {
   "cell_type": "markdown",
   "metadata": {},
   "source": [
    "## Top 10 movies with Release year and Ratings"
   ]
  },
  {
   "cell_type": "code",
   "execution_count": 40,
   "metadata": {},
   "outputs": [
    {
     "data": {
      "text/html": [
       "<div>\n",
       "<style scoped>\n",
       "    .dataframe tbody tr th:only-of-type {\n",
       "        vertical-align: middle;\n",
       "    }\n",
       "\n",
       "    .dataframe tbody tr th {\n",
       "        vertical-align: top;\n",
       "    }\n",
       "\n",
       "    .dataframe thead th {\n",
       "        text-align: right;\n",
       "    }\n",
       "</style>\n",
       "<table border=\"1\" class=\"dataframe\">\n",
       "  <thead>\n",
       "    <tr style=\"text-align: right;\">\n",
       "      <th></th>\n",
       "      <th>Movie_Name</th>\n",
       "      <th>Year_Of_Release</th>\n",
       "      <th>Rating_OutOf_10</th>\n",
       "    </tr>\n",
       "  </thead>\n",
       "  <tbody>\n",
       "    <tr>\n",
       "      <th>0</th>\n",
       "      <td>The Shawshank Redemption</td>\n",
       "      <td>1994</td>\n",
       "      <td>9.2</td>\n",
       "    </tr>\n",
       "    <tr>\n",
       "      <th>1</th>\n",
       "      <td>The Godfather</td>\n",
       "      <td>1972</td>\n",
       "      <td>9.2</td>\n",
       "    </tr>\n",
       "    <tr>\n",
       "      <th>2</th>\n",
       "      <td>The Dark Knight</td>\n",
       "      <td>2008</td>\n",
       "      <td>9.0</td>\n",
       "    </tr>\n",
       "    <tr>\n",
       "      <th>3</th>\n",
       "      <td>The Godfather: Part II</td>\n",
       "      <td>1974</td>\n",
       "      <td>9.0</td>\n",
       "    </tr>\n",
       "    <tr>\n",
       "      <th>4</th>\n",
       "      <td>12 Angry Men</td>\n",
       "      <td>1957</td>\n",
       "      <td>9.0</td>\n",
       "    </tr>\n",
       "    <tr>\n",
       "      <th>5</th>\n",
       "      <td>Schindler's List</td>\n",
       "      <td>1993</td>\n",
       "      <td>8.9</td>\n",
       "    </tr>\n",
       "    <tr>\n",
       "      <th>6</th>\n",
       "      <td>The Lord of the Rings: The Return of the King</td>\n",
       "      <td>2003</td>\n",
       "      <td>8.9</td>\n",
       "    </tr>\n",
       "    <tr>\n",
       "      <th>7</th>\n",
       "      <td>Pulp Fiction</td>\n",
       "      <td>1994</td>\n",
       "      <td>8.9</td>\n",
       "    </tr>\n",
       "    <tr>\n",
       "      <th>8</th>\n",
       "      <td>The Lord of the Rings: The Fellowship of the Ring</td>\n",
       "      <td>2001</td>\n",
       "      <td>8.8</td>\n",
       "    </tr>\n",
       "    <tr>\n",
       "      <th>9</th>\n",
       "      <td>Il buono, il brutto, il cattivo</td>\n",
       "      <td>1966</td>\n",
       "      <td>8.8</td>\n",
       "    </tr>\n",
       "  </tbody>\n",
       "</table>\n",
       "</div>"
      ],
      "text/plain": [
       "                                          Movie_Name  Year_Of_Release  \\\n",
       "0                           The Shawshank Redemption             1994   \n",
       "1                                      The Godfather             1972   \n",
       "2                                    The Dark Knight             2008   \n",
       "3                             The Godfather: Part II             1974   \n",
       "4                                       12 Angry Men             1957   \n",
       "5                                   Schindler's List             1993   \n",
       "6      The Lord of the Rings: The Return of the King             2003   \n",
       "7                                       Pulp Fiction             1994   \n",
       "8  The Lord of the Rings: The Fellowship of the Ring             2001   \n",
       "9                    Il buono, il brutto, il cattivo             1966   \n",
       "\n",
       "   Rating_OutOf_10  \n",
       "0              9.2  \n",
       "1              9.2  \n",
       "2              9.0  \n",
       "3              9.0  \n",
       "4              9.0  \n",
       "5              8.9  \n",
       "6              8.9  \n",
       "7              8.9  \n",
       "8              8.8  \n",
       "9              8.8  "
      ]
     },
     "execution_count": 40,
     "metadata": {},
     "output_type": "execute_result"
    }
   ],
   "source": [
    "IMDB_Top_250[['Movie_Name','Year_Of_Release','Rating_OutOf_10']].head(10)"
   ]
  },
  {
   "cell_type": "markdown",
   "metadata": {},
   "source": [
    "## Average rating for the 250 movies "
   ]
  },
  {
   "cell_type": "code",
   "execution_count": 41,
   "metadata": {},
   "outputs": [
    {
     "name": "stdout",
     "output_type": "stream",
     "text": [
      "8.260799999999975\n"
     ]
    }
   ],
   "source": [
    "print(IMDB_Top_250['Rating_OutOf_10'].mean())"
   ]
  },
  {
   "cell_type": "code",
   "execution_count": 42,
   "metadata": {},
   "outputs": [
    {
     "name": "stdout",
     "output_type": "stream",
     "text": [
      "8.2\n"
     ]
    }
   ],
   "source": [
    "# The result of mean might come off as a bit skewed because of how easily it is affected by outliers,\n",
    "# so finding Median is a better practice\n",
    "\n",
    "print(IMDB_Top_250['Rating_OutOf_10'].median())"
   ]
  },
  {
   "cell_type": "code",
   "execution_count": 43,
   "metadata": {},
   "outputs": [
    {
     "data": {
      "text/plain": [
       "<matplotlib.axes._subplots.AxesSubplot at 0x17336ea9970>"
      ]
     },
     "execution_count": 43,
     "metadata": {},
     "output_type": "execute_result"
    },
    {
     "data": {
      "image/png": "[encoded data removed]",
      "text/plain": [
       "<Figure size 720x504 with 1 Axes>"
      ]
     },
     "metadata": {},
     "output_type": "display_data"
    }
   ],
   "source": [
    "# lets visualise \n",
    "\n",
    "import matplotlib.pyplot as plt\n",
    "import seaborn as sns\n",
    "%matplotlib inline\n",
    "\n",
    "sns.set_style('darkgrid')\n",
    "sns.set_context('paper')\n",
    "plt.figure(figsize=(10,7))\n",
    "plt.xlabel('RATING',size=18)\n",
    "plt.xticks(size=16)\n",
    "plt.yticks(size=16)\n",
    "plt.title('Distribution of Ratings',size=20)\n",
    "sns.kdeplot(IMDB_Top_250['Rating_OutOf_10'],shade=True)"
   ]
  },
  {
   "cell_type": "markdown",
   "metadata": {},
   "source": [
    "<p style='font-size:16px;'> Looks like most of the movie ratings fall in the bracket of 8 to 8.25 stars. The median value attests the fact."
   ]
  },
  {
   "cell_type": "markdown",
   "metadata": {},
   "source": [
    "## Unique Ratings' values"
   ]
  },
  {
   "cell_type": "code",
   "execution_count": 44,
   "metadata": {},
   "outputs": [
    {
     "name": "stdout",
     "output_type": "stream",
     "text": [
      "[9.2 9.  8.9 8.8 8.7 8.6 8.5 8.4 8.3 8.2 8.1 8. ]\n",
      "Count: 12\n"
     ]
    }
   ],
   "source": [
    "unique_ratings = IMDB_Top_250['Rating_OutOf_10'].unique()\n",
    "\n",
    "print(f'{unique_ratings}\\nCount: {len(unique_ratings)}')"
   ]
  },
  {
   "cell_type": "code",
   "execution_count": 45,
   "metadata": {},
   "outputs": [
    {
     "data": {
      "text/plain": [
       "8.1    67\n",
       "8.2    47\n",
       "8.0    35\n",
       "8.3    35\n",
       "8.5    20\n",
       "8.4    18\n",
       "8.6    11\n",
       "8.7     5\n",
       "8.8     4\n",
       "9.0     3\n",
       "8.9     3\n",
       "9.2     2\n",
       "Name: Rating_OutOf_10, dtype: int64"
      ]
     },
     "execution_count": 45,
     "metadata": {},
     "output_type": "execute_result"
    }
   ],
   "source": [
    "IMDB_Top_250['Rating_OutOf_10'].value_counts(ascending=False)"
   ]
  },
  {
   "cell_type": "markdown",
   "metadata": {},
   "source": [
    "<p style='font-size:16px;'> Most movies have been rated a 8.1 and only 2 have been rated with 9.2 stars "
   ]
  },
  {
   "cell_type": "code",
   "execution_count": 46,
   "metadata": {},
   "outputs": [
    {
     "data": {
      "text/plain": [
       "0      1994\n",
       "1      1972\n",
       "2      2008\n",
       "3      1974\n",
       "4      1957\n",
       "       ... \n",
       "245    1991\n",
       "246    1982\n",
       "247    2011\n",
       "248    2016\n",
       "249    1990\n",
       "Name: Year_Of_Release, Length: 250, dtype: int64"
      ]
     },
     "execution_count": 46,
     "metadata": {},
     "output_type": "execute_result"
    }
   ],
   "source": [
    "IMDB_Top_250['Year_Of_Release']"
   ]
  },
  {
   "cell_type": "code",
   "execution_count": 47,
   "metadata": {},
   "outputs": [],
   "source": [
    "unique_years = IMDB_Top_250['Year_Of_Release'].unique()"
   ]
  },
  {
   "cell_type": "code",
   "execution_count": 48,
   "metadata": {},
   "outputs": [
    {
     "name": "stdout",
     "output_type": "stream",
     "text": [
      "[1921 1924 1925 1926 1927 1928 1931 1934 1936 1939 1940 1941 1942 1944\n",
      " 1946 1948 1949 1950 1952 1953 1954 1955 1957 1958 1959 1960 1961 1962\n",
      " 1963 1964 1965 1966 1967 1968 1971 1972 1973 1974 1975 1976 1977 1978\n",
      " 1979 1980 1981 1982 1983 1984 1985 1986 1987 1988 1989 1990 1991 1992\n",
      " 1993 1994 1995 1996 1997 1998 1999 2000 2001 2002 2003 2004 2005 2006\n",
      " 2007 2008 2009 2010 2011 2012 2013 2014 2015 2016 2017 2018 2019 2020\n",
      " 2021 2022]\n",
      "\n",
      "Earliest movie: 1921\n",
      "\n",
      "Latest movie: 2022\n",
      "\n",
      "Span: 101 years\n"
     ]
    }
   ],
   "source": [
    "# How many unique years ?\n",
    "unique_years.sort()\n",
    "print(unique_years)\n",
    "print('\\nEarliest movie:',unique_years.min())\n",
    "print('\\nLatest movie:',unique_years.max())\n",
    "print('\\nSpan:',2022-1921,'years')"
   ]
  },
  {
   "cell_type": "markdown",
   "metadata": {},
   "source": [
    "<p style='font-size:16px;'> The range of our highest rated movies is from 1921 to 2022"
   ]
  },
  {
   "cell_type": "code",
   "execution_count": 49,
   "metadata": {},
   "outputs": [
    {
     "data": {
      "text/html": [
       "<div>\n",
       "<style scoped>\n",
       "    .dataframe tbody tr th:only-of-type {\n",
       "        vertical-align: middle;\n",
       "    }\n",
       "\n",
       "    .dataframe tbody tr th {\n",
       "        vertical-align: top;\n",
       "    }\n",
       "\n",
       "    .dataframe thead th {\n",
       "        text-align: right;\n",
       "    }\n",
       "</style>\n",
       "<table border=\"1\" class=\"dataframe\">\n",
       "  <thead>\n",
       "    <tr style=\"text-align: right;\">\n",
       "      <th></th>\n",
       "      <th>Rank</th>\n",
       "      <th>Movie_Name</th>\n",
       "      <th>Year_Of_Release</th>\n",
       "      <th>Rating_OutOf_10</th>\n",
       "    </tr>\n",
       "  </thead>\n",
       "  <tbody>\n",
       "    <tr>\n",
       "      <th>128</th>\n",
       "      <td>129</td>\n",
       "      <td>The Kid</td>\n",
       "      <td>1921</td>\n",
       "      <td>8.2</td>\n",
       "    </tr>\n",
       "  </tbody>\n",
       "</table>\n",
       "</div>"
      ],
      "text/plain": [
       "     Rank Movie_Name  Year_Of_Release  Rating_OutOf_10\n",
       "128   129    The Kid             1921              8.2"
      ]
     },
     "execution_count": 49,
     "metadata": {},
     "output_type": "execute_result"
    }
   ],
   "source": [
    "# Let's see which ones are the oldest and the latest high rankers in our data...\n",
    "\n",
    "IMDB_Top_250[(IMDB_Top_250['Year_Of_Release']==1921)]"
   ]
  },
  {
   "cell_type": "code",
   "execution_count": 50,
   "metadata": {},
   "outputs": [
    {
     "data": {
      "text/html": [
       "<div>\n",
       "<style scoped>\n",
       "    .dataframe tbody tr th:only-of-type {\n",
       "        vertical-align: middle;\n",
       "    }\n",
       "\n",
       "    .dataframe tbody tr th {\n",
       "        vertical-align: top;\n",
       "    }\n",
       "\n",
       "    .dataframe thead th {\n",
       "        text-align: right;\n",
       "    }\n",
       "</style>\n",
       "<table border=\"1\" class=\"dataframe\">\n",
       "  <thead>\n",
       "    <tr style=\"text-align: right;\">\n",
       "      <th></th>\n",
       "      <th>Rank</th>\n",
       "      <th>Movie_Name</th>\n",
       "      <th>Year_Of_Release</th>\n",
       "      <th>Rating_OutOf_10</th>\n",
       "    </tr>\n",
       "  </thead>\n",
       "  <tbody>\n",
       "    <tr>\n",
       "      <th>121</th>\n",
       "      <td>122</td>\n",
       "      <td>The Batman</td>\n",
       "      <td>2022</td>\n",
       "      <td>8.2</td>\n",
       "    </tr>\n",
       "  </tbody>\n",
       "</table>\n",
       "</div>"
      ],
      "text/plain": [
       "     Rank  Movie_Name  Year_Of_Release  Rating_OutOf_10\n",
       "121   122  The Batman             2022              8.2"
      ]
     },
     "execution_count": 50,
     "metadata": {},
     "output_type": "execute_result"
    }
   ],
   "source": [
    "IMDB_Top_250[(IMDB_Top_250['Year_Of_Release']==2022)]"
   ]
  },
  {
   "cell_type": "markdown",
   "metadata": {},
   "source": [
    "## The 2 years that gave us the most highly rated movies"
   ]
  },
  {
   "cell_type": "code",
   "execution_count": 51,
   "metadata": {},
   "outputs": [
    {
     "data": {
      "text/plain": [
       "1995    8\n",
       "2004    7\n",
       "Name: Year_Of_Release, dtype: int64"
      ]
     },
     "execution_count": 51,
     "metadata": {},
     "output_type": "execute_result"
    }
   ],
   "source": [
    "IMDB_Top_250['Year_Of_Release'].value_counts().nlargest(2)"
   ]
  },
  {
   "cell_type": "code",
   "execution_count": 52,
   "metadata": {},
   "outputs": [
    {
     "data": {
      "text/html": [
       "<div>\n",
       "<style scoped>\n",
       "    .dataframe tbody tr th:only-of-type {\n",
       "        vertical-align: middle;\n",
       "    }\n",
       "\n",
       "    .dataframe tbody tr th {\n",
       "        vertical-align: top;\n",
       "    }\n",
       "\n",
       "    .dataframe thead th {\n",
       "        text-align: right;\n",
       "    }\n",
       "</style>\n",
       "<table border=\"1\" class=\"dataframe\">\n",
       "  <thead>\n",
       "    <tr style=\"text-align: right;\">\n",
       "      <th></th>\n",
       "      <th>Rank</th>\n",
       "      <th>Movie_Name</th>\n",
       "      <th>Year_Of_Release</th>\n",
       "      <th>Rating_OutOf_10</th>\n",
       "    </tr>\n",
       "  </thead>\n",
       "  <tbody>\n",
       "    <tr>\n",
       "      <th>18</th>\n",
       "      <td>19</td>\n",
       "      <td>Se7en</td>\n",
       "      <td>1995</td>\n",
       "      <td>8.6</td>\n",
       "    </tr>\n",
       "    <tr>\n",
       "      <th>38</th>\n",
       "      <td>39</td>\n",
       "      <td>The Usual Suspects</td>\n",
       "      <td>1995</td>\n",
       "      <td>8.5</td>\n",
       "    </tr>\n",
       "    <tr>\n",
       "      <th>72</th>\n",
       "      <td>73</td>\n",
       "      <td>Braveheart</td>\n",
       "      <td>1995</td>\n",
       "      <td>8.3</td>\n",
       "    </tr>\n",
       "    <tr>\n",
       "      <th>73</th>\n",
       "      <td>74</td>\n",
       "      <td>Toy Story</td>\n",
       "      <td>1995</td>\n",
       "      <td>8.3</td>\n",
       "    </tr>\n",
       "    <tr>\n",
       "      <th>112</th>\n",
       "      <td>113</td>\n",
       "      <td>Heat</td>\n",
       "      <td>1995</td>\n",
       "      <td>8.2</td>\n",
       "    </tr>\n",
       "    <tr>\n",
       "      <th>135</th>\n",
       "      <td>136</td>\n",
       "      <td>Casino</td>\n",
       "      <td>1995</td>\n",
       "      <td>8.2</td>\n",
       "    </tr>\n",
       "    <tr>\n",
       "      <th>186</th>\n",
       "      <td>187</td>\n",
       "      <td>Before Sunrise</td>\n",
       "      <td>1995</td>\n",
       "      <td>8.1</td>\n",
       "    </tr>\n",
       "    <tr>\n",
       "      <th>243</th>\n",
       "      <td>244</td>\n",
       "      <td>La haine</td>\n",
       "      <td>1995</td>\n",
       "      <td>8.0</td>\n",
       "    </tr>\n",
       "  </tbody>\n",
       "</table>\n",
       "</div>"
      ],
      "text/plain": [
       "     Rank          Movie_Name  Year_Of_Release  Rating_OutOf_10\n",
       "18     19               Se7en             1995              8.6\n",
       "38     39  The Usual Suspects             1995              8.5\n",
       "72     73          Braveheart             1995              8.3\n",
       "73     74           Toy Story             1995              8.3\n",
       "112   113                Heat             1995              8.2\n",
       "135   136              Casino             1995              8.2\n",
       "186   187      Before Sunrise             1995              8.1\n",
       "243   244            La haine             1995              8.0"
      ]
     },
     "execution_count": 52,
     "metadata": {},
     "output_type": "execute_result"
    }
   ],
   "source": [
    "IMDB_Top_250[(IMDB_Top_250['Year_Of_Release']==1995)]"
   ]
  },
  {
   "cell_type": "code",
   "execution_count": 53,
   "metadata": {},
   "outputs": [
    {
     "data": {
      "text/html": [
       "<div>\n",
       "<style scoped>\n",
       "    .dataframe tbody tr th:only-of-type {\n",
       "        vertical-align: middle;\n",
       "    }\n",
       "\n",
       "    .dataframe tbody tr th {\n",
       "        vertical-align: top;\n",
       "    }\n",
       "\n",
       "    .dataframe thead th {\n",
       "        text-align: right;\n",
       "    }\n",
       "</style>\n",
       "<table border=\"1\" class=\"dataframe\">\n",
       "  <thead>\n",
       "    <tr style=\"text-align: right;\">\n",
       "      <th></th>\n",
       "      <th>Rank</th>\n",
       "      <th>Movie_Name</th>\n",
       "      <th>Year_Of_Release</th>\n",
       "      <th>Rating_OutOf_10</th>\n",
       "    </tr>\n",
       "  </thead>\n",
       "  <tbody>\n",
       "    <tr>\n",
       "      <th>89</th>\n",
       "      <td>90</td>\n",
       "      <td>Eternal Sunshine of the Spotless Mind</td>\n",
       "      <td>2004</td>\n",
       "      <td>8.3</td>\n",
       "    </tr>\n",
       "    <tr>\n",
       "      <th>127</th>\n",
       "      <td>128</td>\n",
       "      <td>Der Untergang</td>\n",
       "      <td>2004</td>\n",
       "      <td>8.2</td>\n",
       "    </tr>\n",
       "    <tr>\n",
       "      <th>163</th>\n",
       "      <td>164</td>\n",
       "      <td>Hauru no ugoku shiro</td>\n",
       "      <td>2004</td>\n",
       "      <td>8.1</td>\n",
       "    </tr>\n",
       "    <tr>\n",
       "      <th>172</th>\n",
       "      <td>173</td>\n",
       "      <td>Million Dollar Baby</td>\n",
       "      <td>2004</td>\n",
       "      <td>8.1</td>\n",
       "    </tr>\n",
       "    <tr>\n",
       "      <th>207</th>\n",
       "      <td>208</td>\n",
       "      <td>Hotel Rwanda</td>\n",
       "      <td>2004</td>\n",
       "      <td>8.1</td>\n",
       "    </tr>\n",
       "    <tr>\n",
       "      <th>225</th>\n",
       "      <td>226</td>\n",
       "      <td>The Incredibles</td>\n",
       "      <td>2004</td>\n",
       "      <td>8.0</td>\n",
       "    </tr>\n",
       "    <tr>\n",
       "      <th>227</th>\n",
       "      <td>228</td>\n",
       "      <td>Before Sunset</td>\n",
       "      <td>2004</td>\n",
       "      <td>8.0</td>\n",
       "    </tr>\n",
       "  </tbody>\n",
       "</table>\n",
       "</div>"
      ],
      "text/plain": [
       "     Rank                             Movie_Name  Year_Of_Release  \\\n",
       "89     90  Eternal Sunshine of the Spotless Mind             2004   \n",
       "127   128                          Der Untergang             2004   \n",
       "163   164                   Hauru no ugoku shiro             2004   \n",
       "172   173                    Million Dollar Baby             2004   \n",
       "207   208                           Hotel Rwanda             2004   \n",
       "225   226                        The Incredibles             2004   \n",
       "227   228                          Before Sunset             2004   \n",
       "\n",
       "     Rating_OutOf_10  \n",
       "89               8.3  \n",
       "127              8.2  \n",
       "163              8.1  \n",
       "172              8.1  \n",
       "207              8.1  \n",
       "225              8.0  \n",
       "227              8.0  "
      ]
     },
     "execution_count": 53,
     "metadata": {},
     "output_type": "execute_result"
    }
   ],
   "source": [
    "IMDB_Top_250[(IMDB_Top_250['Year_Of_Release']==2004)]"
   ]
  },
  {
   "cell_type": "markdown",
   "metadata": {},
   "source": [
    "While 1995 and 2004 gave us the most highly rated movies, 1994 has given us without a doubt, the most iconic movies... So here is a group of honorable mentions..."
   ]
  },
  {
   "cell_type": "code",
   "execution_count": 54,
   "metadata": {},
   "outputs": [
    {
     "data": {
      "text/html": [
       "<div>\n",
       "<style scoped>\n",
       "    .dataframe tbody tr th:only-of-type {\n",
       "        vertical-align: middle;\n",
       "    }\n",
       "\n",
       "    .dataframe tbody tr th {\n",
       "        vertical-align: top;\n",
       "    }\n",
       "\n",
       "    .dataframe thead th {\n",
       "        text-align: right;\n",
       "    }\n",
       "</style>\n",
       "<table border=\"1\" class=\"dataframe\">\n",
       "  <thead>\n",
       "    <tr style=\"text-align: right;\">\n",
       "      <th></th>\n",
       "      <th>Rank</th>\n",
       "      <th>Movie_Name</th>\n",
       "      <th>Year_Of_Release</th>\n",
       "      <th>Rating_OutOf_10</th>\n",
       "    </tr>\n",
       "  </thead>\n",
       "  <tbody>\n",
       "    <tr>\n",
       "      <th>0</th>\n",
       "      <td>1</td>\n",
       "      <td>The Shawshank Redemption</td>\n",
       "      <td>1994</td>\n",
       "      <td>9.2</td>\n",
       "    </tr>\n",
       "    <tr>\n",
       "      <th>7</th>\n",
       "      <td>8</td>\n",
       "      <td>Pulp Fiction</td>\n",
       "      <td>1994</td>\n",
       "      <td>8.9</td>\n",
       "    </tr>\n",
       "    <tr>\n",
       "      <th>10</th>\n",
       "      <td>11</td>\n",
       "      <td>Forrest Gump</td>\n",
       "      <td>1994</td>\n",
       "      <td>8.8</td>\n",
       "    </tr>\n",
       "    <tr>\n",
       "      <th>32</th>\n",
       "      <td>33</td>\n",
       "      <td>Léon</td>\n",
       "      <td>1994</td>\n",
       "      <td>8.5</td>\n",
       "    </tr>\n",
       "    <tr>\n",
       "      <th>35</th>\n",
       "      <td>36</td>\n",
       "      <td>The Lion King</td>\n",
       "      <td>1994</td>\n",
       "      <td>8.5</td>\n",
       "    </tr>\n",
       "  </tbody>\n",
       "</table>\n",
       "</div>"
      ],
      "text/plain": [
       "    Rank                Movie_Name  Year_Of_Release  Rating_OutOf_10\n",
       "0      1  The Shawshank Redemption             1994              9.2\n",
       "7      8              Pulp Fiction             1994              8.9\n",
       "10    11              Forrest Gump             1994              8.8\n",
       "32    33                      Léon             1994              8.5\n",
       "35    36             The Lion King             1994              8.5"
      ]
     },
     "execution_count": 54,
     "metadata": {},
     "output_type": "execute_result"
    }
   ],
   "source": [
    "IMDB_Top_250[(IMDB_Top_250['Year_Of_Release']==1994)]"
   ]
  }
 ],
 "metadata": {
  "kernelspec": {
   "display_name": "Python 3",
   "language": "python",
   "name": "python3"
  },
  "language_info": {
   "codemirror_mode": {
    "name": "ipython",
    "version": 3
   },
   "file_extension": ".py",
   "mimetype": "text/x-python",
   "name": "python",
   "nbconvert_exporter": "python",
   "pygments_lexer": "ipython3",
   "version": "3.8.3"
  }
 },
 "nbformat": 4,
 "nbformat_minor": 4
}
